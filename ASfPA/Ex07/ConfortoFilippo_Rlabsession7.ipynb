{
 "cells": [
  {
   "cell_type": "markdown",
   "id": "7af2899c-8bf4-4019-bd3a-fe6c1fbebc77",
   "metadata": {},
   "source": [
    "# Filippo Conforto - RLab 07"
   ]
  },
  {
   "cell_type": "code",
   "execution_count": 7,
   "id": "57b1246f-fb91-4be2-9f2e-4233f1d4ec81",
   "metadata": {},
   "outputs": [
    {
     "name": "stderr",
     "output_type": "stream",
     "text": [
      "── \u001b[1mAttaching packages\u001b[22m ─────────────────────────────────────── tidyverse 1.3.0 ──\n",
      "\n",
      "\u001b[32m✔\u001b[39m \u001b[34mggplot2\u001b[39m 3.3.3     \u001b[32m✔\u001b[39m \u001b[34mpurrr  \u001b[39m 0.3.4\n",
      "\u001b[32m✔\u001b[39m \u001b[34mtibble \u001b[39m 3.1.0     \u001b[32m✔\u001b[39m \u001b[34mdplyr  \u001b[39m 1.0.5\n",
      "\u001b[32m✔\u001b[39m \u001b[34mtidyr  \u001b[39m 1.1.3     \u001b[32m✔\u001b[39m \u001b[34mstringr\u001b[39m 1.4.0\n",
      "\u001b[32m✔\u001b[39m \u001b[34mreadr  \u001b[39m 1.4.0     \u001b[32m✔\u001b[39m \u001b[34mforcats\u001b[39m 0.5.1\n",
      "\n",
      "── \u001b[1mConflicts\u001b[22m ────────────────────────────────────────── tidyverse_conflicts() ──\n",
      "\u001b[31m✖\u001b[39m \u001b[34mdplyr\u001b[39m::\u001b[32mfilter()\u001b[39m masks \u001b[34mstats\u001b[39m::filter()\n",
      "\u001b[31m✖\u001b[39m \u001b[34mdplyr\u001b[39m::\u001b[32mlag()\u001b[39m    masks \u001b[34mstats\u001b[39m::lag()\n",
      "\n"
     ]
    }
   ],
   "source": [
    "library(tidyverse, quiet = TRUE)"
   ]
  },
  {
   "cell_type": "code",
   "execution_count": 18,
   "id": "52e302b5-47d9-495f-8f83-e22331d14fc3",
   "metadata": {},
   "outputs": [],
   "source": [
    "find_ci95 = function (pos) {\n",
    "    low = uniroot(function(y){integrate(pos,0,y)[[1]] - 0.025}, lower = 0, upper = 1)$root\n",
    "    up = uniroot(function(y){integrate(pos,y,1)[[1]] - 0.025}, lower = 0, upper = 1)$root\n",
    "    return(c(low,up))\n",
    "}"
   ]
  },
  {
   "cell_type": "code",
   "execution_count": 61,
   "id": "9105df8f-faaf-4387-b730-306167b75c47",
   "metadata": {},
   "outputs": [],
   "source": [
    "find_median = function (pos, lower, upper) {\n",
    "    median = uniroot(function(y){integrate(pos,0,y)[[1]] - 0.5}, lower = lower, upper = upper)$root\n",
    "    return(median)\n",
    "    ## Valutare di usare qgamma\n",
    "}"
   ]
  },
  {
   "cell_type": "markdown",
   "id": "6c85e12e-6bf0-4d97-8678-6912cca5d86c",
   "metadata": {
    "tags": []
   },
   "source": [
    "## Exercise 1"
   ]
  },
  {
   "cell_type": "markdown",
   "id": "9cdd59c4-c9ec-44dc-9da1-c0eef2b9a96c",
   "metadata": {},
   "source": [
    "Binomial distribution"
   ]
  },
  {
   "cell_type": "markdown",
   "id": "81159cd4-882c-41b9-8e06-919ebb7dac11",
   "metadata": {},
   "source": [
    "The frequentist estimator is 6/75"
   ]
  },
  {
   "cell_type": "code",
   "execution_count": 1,
   "id": "8c54a435-8db0-4444-ab9a-80ff8c65cab9",
   "metadata": {},
   "outputs": [],
   "source": [
    "alfa = ((1-0.15)/sqrt(0.14)^2-1/0.15)*0.15^2\n",
    "beta = alfa*(1/0.15 - 1)\n",
    "prior = function(x) dbeta(x,shape1 = alfa, shape2 = beta)\n",
    "posterior = function(x) dbeta(x,shape1 = alfa +6, shape2 = beta+75-6)"
   ]
  },
  {
   "cell_type": "code",
   "execution_count": 15,
   "id": "10949d3f-9a56-4846-89b2-c05772ff5dd1",
   "metadata": {},
   "outputs": [
    {
     "data": {
      "image/png": "[encoded data removed]",
      "text/plain": [
       "plot without title"
      ]
     },
     "metadata": {
      "image/png": {
       "height": 420,
       "width": 420
      }
     },
     "output_type": "display_data"
    }
   ],
   "source": [
    "plot(seq(0,1,0.01), posterior(seq(0,1,0.01)))"
   ]
  },
  {
   "cell_type": "code",
   "execution_count": 16,
   "id": "690de231-7ac4-43f0-aa62-329682115552",
   "metadata": {},
   "outputs": [
    {
     "name": "stderr",
     "output_type": "stream",
     "text": [
      "mean 0.0799165673420739\n",
      "\n"
     ]
    }
   ],
   "source": [
    "message(\"mean \", (alfa +6)/(alfa + beta+75))"
   ]
  },
  {
   "cell_type": "code",
   "execution_count": 17,
   "id": "8cb1901a-f641-4c74-98c8-a7c968f92386",
   "metadata": {},
   "outputs": [
    {
     "name": "stderr",
     "output_type": "stream",
     "text": [
      "variance 0.00096863677674775\n",
      "\n"
     ]
    }
   ],
   "source": [
    "message(\"variance \", (alfa +6)*(beta+75-6)/((alfa + beta+75)*(alfa + beta+75)*(alfa + beta+76)))"
   ]
  },
  {
   "cell_type": "code",
   "execution_count": 39,
   "id": "2f991fb3-8e4f-441e-9759-496a07de4fb5",
   "metadata": {},
   "outputs": [
    {
     "data": {
      "text/html": [
       "0.0258084591778731"
      ],
      "text/latex": [
       "0.0258084591778731"
      ],
      "text/markdown": [
       "0.0258084591778731"
      ],
      "text/plain": [
       "[1] 0.02580846"
      ]
     },
     "metadata": {},
     "output_type": "display_data"
    }
   ],
   "source": [
    "1-pbeta(0.15,shape1 = alfa +6, shape2 = beta+75-6)"
   ]
  },
  {
   "cell_type": "markdown",
   "id": "2ac92627-4d84-4c7f-be2e-71a2177fbc36",
   "metadata": {},
   "source": [
    "The probability is less than 5% so we can reject"
   ]
  },
  {
   "cell_type": "code",
   "execution_count": 41,
   "id": "38f34bb8-9c4d-4864-92a4-af3e0c514265",
   "metadata": {},
   "outputs": [
    {
     "data": {
      "text/html": [
       "0.0543533033542315"
      ],
      "text/latex": [
       "0.0543533033542315"
      ],
      "text/markdown": [
       "0.0543533033542315"
      ],
      "text/plain": [
       "[1] 0.0543533"
      ]
     },
     "metadata": {},
     "output_type": "display_data"
    }
   ],
   "source": [
    "pbinom(6,75,0.15)"
   ]
  },
  {
   "cell_type": "code",
   "execution_count": 1,
   "id": "52aed1ba-8885-4797-b522-a2c0c67928a4",
   "metadata": {},
   "outputs": [
    {
     "data": {
      "text/plain": [
       "\n",
       "\tExact binomial test\n",
       "\n",
       "data:  6 and 75\n",
       "number of successes = 6, number of trials = 75, p-value = 0.05435\n",
       "alternative hypothesis: true probability of success is less than 0.15\n",
       "95 percent confidence interval:\n",
       " 0.0000000 0.1517971\n",
       "sample estimates:\n",
       "probability of success \n",
       "                  0.08 \n"
      ]
     },
     "metadata": {},
     "output_type": "display_data"
    }
   ],
   "source": [
    "binom.test(6,75,0.15, \"less\")"
   ]
  },
  {
   "cell_type": "markdown",
   "id": "963bba87-e2c2-4d53-9b85-ed429225dbe8",
   "metadata": {},
   "source": [
    "The p-value is higher than 5% so we cannot reject the null hypothesis"
   ]
  },
  {
   "cell_type": "markdown",
   "id": "82e418c5-402d-4956-a1c6-d6789c11a51b",
   "metadata": {
    "tags": []
   },
   "source": [
    "## Exercise 2"
   ]
  },
  {
   "cell_type": "code",
   "execution_count": 55,
   "id": "6bffb98d-9b7c-4afb-8213-6388453c57a3",
   "metadata": {},
   "outputs": [],
   "source": [
    "posterior1 = function(x){\n",
    "    dgamma(x,123,200)\n",
    "}\n",
    "posterior2 = function(x){\n",
    "    dgamma(x,197,280)\n",
    "}"
   ]
  },
  {
   "cell_type": "code",
   "execution_count": 56,
   "id": "a78abd48-9b5c-42b3-988c-678aacd75c5d",
   "metadata": {},
   "outputs": [
    {
     "data": {
      "image/png": "[encoded data removed]",
      "text/plain": [
       "plot without title"
      ]
     },
     "metadata": {
      "image/png": {
       "height": 420,
       "width": 420
      }
     },
     "output_type": "display_data"
    }
   ],
   "source": [
    "layout(matrix(1:2, nrow=1, ncol = 2, byrow = TRUE))\n",
    "plot(seq(0,2,0.01), posterior1(seq(0,2,0.01)))\n",
    "plot(seq(0,2,0.01), posterior2(seq(0,2,0.01)))"
   ]
  },
  {
   "cell_type": "code",
   "execution_count": 57,
   "id": "23d4b25d-5b6a-4fc9-a356-11203f0feb80",
   "metadata": {},
   "outputs": [
    {
     "name": "stderr",
     "output_type": "stream",
     "text": [
      "mean1 0.615\n",
      "\n",
      "mean2 0.703571428571429\n",
      "\n"
     ]
    }
   ],
   "source": [
    "message(\"mean1 \", 123/200)\n",
    "message(\"mean2 \", 197/280)"
   ]
  },
  {
   "cell_type": "code",
   "execution_count": 58,
   "id": "a754f51f-cbae-451f-9bdc-f345a63009f0",
   "metadata": {},
   "outputs": [
    {
     "name": "stderr",
     "output_type": "stream",
     "text": [
      "variance1 0.003075\n",
      "\n",
      "variance2 0.00251275510204082\n",
      "\n"
     ]
    }
   ],
   "source": [
    "message(\"variance1 \",123/200^2)\n",
    "message(\"variance2 \",197/280^2)"
   ]
  },
  {
   "cell_type": "code",
   "execution_count": 59,
   "id": "e6563555-840b-4408-8f46-672a984d6ffa",
   "metadata": {},
   "outputs": [
    {
     "data": {
      "text/html": [
       "<style>\n",
       ".list-inline {list-style: none; margin:0; padding: 0}\n",
       ".list-inline>li {display: inline-block}\n",
       ".list-inline>li:not(:last-child)::after {content: \"\\00b7\"; padding: 0 .5ex}\n",
       "</style>\n",
       "<ol class=list-inline><li>0.511098059009597</li><li>0.728340714822995</li></ol>\n"
      ],
      "text/latex": [
       "\\begin{enumerate*}\n",
       "\\item 0.511098059009597\n",
       "\\item 0.728340714822995\n",
       "\\end{enumerate*}\n"
      ],
      "text/markdown": [
       "1. 0.511098059009597\n",
       "2. 0.728340714822995\n",
       "\n",
       "\n"
      ],
      "text/plain": [
       "[1] 0.5110981 0.7283407"
      ]
     },
     "metadata": {},
     "output_type": "display_data"
    }
   ],
   "source": [
    "find_ci95(posterior1)\n",
    "find_ci95(posterior2)"
   ]
  },
  {
   "cell_type": "code",
   "execution_count": 64,
   "id": "0d6f6f37-10a2-425e-8474-03d09674172f",
   "metadata": {},
   "outputs": [
    {
     "data": {
      "text/html": [
       "0.613313666595153"
      ],
      "text/latex": [
       "0.613313666595153"
      ],
      "text/markdown": [
       "0.613313666595153"
      ],
      "text/plain": [
       "[1] 0.6133137"
      ]
     },
     "metadata": {},
     "output_type": "display_data"
    },
    {
     "data": {
      "text/html": [
       "0.702381323701797"
      ],
      "text/latex": [
       "0.702381323701797"
      ],
      "text/markdown": [
       "0.702381323701797"
      ],
      "text/plain": [
       "[1] 0.7023813"
      ]
     },
     "metadata": {},
     "output_type": "display_data"
    }
   ],
   "source": [
    "find_median(posterior1,0,8)\n",
    "find_median(posterior2,0,8)"
   ]
  },
  {
   "cell_type": "code",
   "execution_count": 65,
   "id": "8101f905-a9b9-4474-aaf3-6a7ac0da49d9",
   "metadata": {},
   "outputs": [],
   "source": [
    "posterior3 = function(x){\n",
    "    dgamma(x,122.5,200)\n",
    "}\n",
    "posterior4 = function(x){\n",
    "    dgamma(x,196.5,280)\n",
    "}"
   ]
  },
  {
   "cell_type": "code",
   "execution_count": 66,
   "id": "a77d4bb5-1cb6-4784-b2f1-d99eafcae319",
   "metadata": {},
   "outputs": [
    {
     "data": {
      "image/png": "[encoded data removed]",
      "text/plain": [
       "plot without title"
      ]
     },
     "metadata": {
      "image/png": {
       "height": 420,
       "width": 420
      }
     },
     "output_type": "display_data"
    }
   ],
   "source": [
    "layout(matrix(1:2, nrow=1, ncol = 2, byrow = TRUE))\n",
    "plot(seq(0,2,0.01), posterior3(seq(0,2,0.01)))\n",
    "plot(seq(0,2,0.01), posterior4(seq(0,2,0.01)))"
   ]
  },
  {
   "cell_type": "code",
   "execution_count": 67,
   "id": "722d1cf3-ac13-45f9-873a-9d3ac6792d67",
   "metadata": {},
   "outputs": [
    {
     "name": "stderr",
     "output_type": "stream",
     "text": [
      "mean1 0.6125\n",
      "\n",
      "mean2 0.701785714285714\n",
      "\n"
     ]
    }
   ],
   "source": [
    "message(\"mean1 \", 122.5/200)\n",
    "message(\"mean2 \", 196.5/280)"
   ]
  },
  {
   "cell_type": "code",
   "execution_count": 68,
   "id": "4dfb7d5a-8a08-46e9-8d98-790d5c16edb3",
   "metadata": {},
   "outputs": [
    {
     "name": "stderr",
     "output_type": "stream",
     "text": [
      "variance1 0.0030625\n",
      "\n",
      "variance2 0.00250637755102041\n",
      "\n"
     ]
    }
   ],
   "source": [
    "message(\"variance1 \",122.5/200^2)\n",
    "message(\"variance2 \",196.5/280^2)"
   ]
  },
  {
   "cell_type": "code",
   "execution_count": 70,
   "id": "3cff66d6-2fc3-4323-ae0a-bc071b8eee4a",
   "metadata": {},
   "outputs": [
    {
     "data": {
      "text/html": [
       "<style>\n",
       ".list-inline {list-style: none; margin:0; padding: 0}\n",
       ".list-inline>li {display: inline-block}\n",
       ".list-inline>li:not(:last-child)::after {content: \"\\00b7\"; padding: 0 .5ex}\n",
       "</style>\n",
       "<ol class=list-inline><li>0.508863731555734</li><li>0.725593195108186</li></ol>\n"
      ],
      "text/latex": [
       "\\begin{enumerate*}\n",
       "\\item 0.508863731555734\n",
       "\\item 0.725593195108186\n",
       "\\end{enumerate*}\n"
      ],
      "text/markdown": [
       "1. 0.508863731555734\n",
       "2. 0.725593195108186\n",
       "\n",
       "\n"
      ],
      "text/plain": [
       "[1] 0.5088637 0.7255932"
      ]
     },
     "metadata": {},
     "output_type": "display_data"
    },
    {
     "data": {
      "text/html": [
       "<style>\n",
       ".list-inline {list-style: none; margin:0; padding: 0}\n",
       ".list-inline>li {display: inline-block}\n",
       ".list-inline>li:not(:last-child)::after {content: \"\\00b7\"; padding: 0 .5ex}\n",
       "</style>\n",
       "<ol class=list-inline><li>0.607075901842982</li><li>0.803246067066233</li></ol>\n"
      ],
      "text/latex": [
       "\\begin{enumerate*}\n",
       "\\item 0.607075901842982\n",
       "\\item 0.803246067066233\n",
       "\\end{enumerate*}\n"
      ],
      "text/markdown": [
       "1. 0.607075901842982\n",
       "2. 0.803246067066233\n",
       "\n",
       "\n"
      ],
      "text/plain": [
       "[1] 0.6070759 0.8032461"
      ]
     },
     "metadata": {},
     "output_type": "display_data"
    }
   ],
   "source": [
    "find_ci95(posterior3)\n",
    "find_ci95(posterior4)"
   ]
  },
  {
   "cell_type": "code",
   "execution_count": 71,
   "id": "9f19b9ed-5630-4375-9b77-85ed143ce0a1",
   "metadata": {},
   "outputs": [
    {
     "data": {
      "text/html": [
       "0.610832212644024"
      ],
      "text/latex": [
       "0.610832212644024"
      ],
      "text/markdown": [
       "0.610832212644024"
      ],
      "text/plain": [
       "[1] 0.6108322"
      ]
     },
     "metadata": {},
     "output_type": "display_data"
    },
    {
     "data": {
      "text/html": [
       "0.700595638031443"
      ],
      "text/latex": [
       "0.700595638031443"
      ],
      "text/markdown": [
       "0.700595638031443"
      ],
      "text/plain": [
       "[1] 0.7005956"
      ]
     },
     "metadata": {},
     "output_type": "display_data"
    }
   ],
   "source": [
    "find_median(posterior3,0,8)\n",
    "find_median(posterior4,0,8)"
   ]
  },
  {
   "cell_type": "markdown",
   "id": "9b575471-0211-419c-95e0-6e39cfb7725c",
   "metadata": {},
   "source": [
    "## Exercise 3"
   ]
  },
  {
   "cell_type": "code",
   "execution_count": 73,
   "id": "1cc99568-e9b8-4027-805b-82cc4f0e3771",
   "metadata": {},
   "outputs": [
    {
     "name": "stderr",
     "output_type": "stream",
     "text": [
      "Estimator 0.0948275862068965\n",
      "\n"
     ]
    }
   ],
   "source": [
    "message(\"Estimator \", 11/116)"
   ]
  },
  {
   "cell_type": "code",
   "execution_count": 76,
   "id": "ccb88bf3-66f6-4320-8392-f84fe0d08190",
   "metadata": {},
   "outputs": [],
   "source": [
    "posterior = function(x){\n",
    "    dbeta(x,shape1 = 1 + 11, shape2 = 10+116-11)\n",
    "}"
   ]
  },
  {
   "cell_type": "code",
   "execution_count": 77,
   "id": "b88afcab-25bc-4e0f-86dc-fecb514e2706",
   "metadata": {},
   "outputs": [
    {
     "data": {
      "image/png": "[encoded data removed]",
      "text/plain": [
       "plot without title"
      ]
     },
     "metadata": {
      "image/png": {
       "height": 420,
       "width": 420
      }
     },
     "output_type": "display_data"
    }
   ],
   "source": [
    "plot(seq(0,1,0.01), posterior(seq(0,1,0.01)))"
   ]
  },
  {
   "cell_type": "code",
   "execution_count": 79,
   "id": "a47ba47b-7fbe-4137-a166-5ef114d0aaca",
   "metadata": {},
   "outputs": [
    {
     "name": "stderr",
     "output_type": "stream",
     "text": [
      "mean 0.094488188976378\n",
      "\n"
     ]
    }
   ],
   "source": [
    "message(\"mean \", (12)/(127))"
   ]
  },
  {
   "cell_type": "code",
   "execution_count": 81,
   "id": "cef95b46-1cd9-4f58-b62a-5c24039d60fe",
   "metadata": {},
   "outputs": [
    {
     "name": "stderr",
     "output_type": "stream",
     "text": [
      "variance 0.000668438836877674\n",
      "\n"
     ]
    }
   ],
   "source": [
    "message(\"variance \", (12)*(115)/((127)*(127)*(128)))"
   ]
  },
  {
   "cell_type": "code",
   "execution_count": 80,
   "id": "7dbf3c41-2c11-4bf1-b7fc-4d0b2c27f58d",
   "metadata": {},
   "outputs": [
    {
     "data": {
      "text/html": [
       "<style>\n",
       ".list-inline {list-style: none; margin:0; padding: 0}\n",
       ".list-inline>li {display: inline-block}\n",
       ".list-inline>li:not(:last-child)::after {content: \"\\00b7\"; padding: 0 .5ex}\n",
       "</style>\n",
       "<ol class=list-inline><li>0.0501892120761295</li><li>0.15083292715532</li></ol>\n"
      ],
      "text/latex": [
       "\\begin{enumerate*}\n",
       "\\item 0.0501892120761295\n",
       "\\item 0.15083292715532\n",
       "\\end{enumerate*}\n"
      ],
      "text/markdown": [
       "1. 0.0501892120761295\n",
       "2. 0.15083292715532\n",
       "\n",
       "\n"
      ],
      "text/plain": [
       "[1] 0.05018921 0.15083293"
      ]
     },
     "metadata": {},
     "output_type": "display_data"
    }
   ],
   "source": [
    "find_ci95(posterior)"
   ]
  },
  {
   "cell_type": "markdown",
   "id": "1d4ce604-cdea-48ec-96ee-8a532d7da191",
   "metadata": {},
   "source": [
    "In bayesian approach we have p=0.1 inside the interval so we can't reject null hypothesis"
   ]
  },
  {
   "cell_type": "code",
   "execution_count": 105,
   "id": "5df69bad-9b29-4320-911c-7cae4f51a260",
   "metadata": {},
   "outputs": [
    {
     "data": {
      "text/html": [
       "0.02092518338129"
      ],
      "text/latex": [
       "0.02092518338129"
      ],
      "text/markdown": [
       "0.02092518338129"
      ],
      "text/plain": [
       "[1] 0.02092518"
      ]
     },
     "metadata": {},
     "output_type": "display_data"
    },
    {
     "data": {
      "text/html": [
       "0.0400537637656229"
      ],
      "text/latex": [
       "0.0400537637656229"
      ],
      "text/markdown": [
       "0.0400537637656229"
      ],
      "text/plain": [
       "[1] 0.04005376"
      ]
     },
     "metadata": {},
     "output_type": "display_data"
    }
   ],
   "source": [
    "pbinom(5,116,0.1)\n",
    "1-pbinom(17,116,0.1)"
   ]
  },
  {
   "cell_type": "markdown",
   "id": "3c33a188-1733-40f6-b993-e9d8f2846a34",
   "metadata": {},
   "source": [
    "Even in the frequentist approach we can't reject it"
   ]
  },
  {
   "cell_type": "code",
   "execution_count": 91,
   "id": "f1ff8f8c-7d4a-42c3-9f52-ef183806721e",
   "metadata": {},
   "outputs": [
    {
     "name": "stderr",
     "output_type": "stream",
     "text": [
      "Estimator 0.0545454545454545\n",
      "\n"
     ]
    }
   ],
   "source": [
    "message(\"Estimator \", 9/165)"
   ]
  },
  {
   "cell_type": "code",
   "execution_count": 92,
   "id": "169a7e03-f24c-427c-a7bd-95fa147754f6",
   "metadata": {},
   "outputs": [],
   "source": [
    "posterior = function(x){\n",
    "    dbeta(x,shape1 = 12 + 9, shape2 = 115 + 165)\n",
    "}"
   ]
  },
  {
   "cell_type": "code",
   "execution_count": 93,
   "id": "62fc6c35-e032-4528-865a-8fdd98a66d4b",
   "metadata": {},
   "outputs": [
    {
     "data": {
      "image/png": "[encoded data removed]",
      "text/plain": [
       "plot without title"
      ]
     },
     "metadata": {
      "image/png": {
       "height": 420,
       "width": 420
      }
     },
     "output_type": "display_data"
    }
   ],
   "source": [
    "plot(seq(0,1,0.01), posterior(seq(0,1,0.01)))"
   ]
  },
  {
   "cell_type": "code",
   "execution_count": 95,
   "id": "f1f13b3a-4480-4cd6-aed1-64af8567975d",
   "metadata": {},
   "outputs": [
    {
     "name": "stderr",
     "output_type": "stream",
     "text": [
      "mean 0.075\n",
      "\n"
     ]
    }
   ],
   "source": [
    "message(\"mean \", (21)/(280))"
   ]
  },
  {
   "cell_type": "code",
   "execution_count": 96,
   "id": "19a0fcbf-758c-4eab-8678-94b54acb576c",
   "metadata": {},
   "outputs": [
    {
     "name": "stderr",
     "output_type": "stream",
     "text": [
      "variance 0.00021490048316792\n",
      "\n"
     ]
    }
   ],
   "source": [
    "message(\"variance \", (21)*(280)/((301)*(301)*(302)))"
   ]
  },
  {
   "cell_type": "code",
   "execution_count": 97,
   "id": "65fcb083-3a8e-4c28-bd11-5429392d8638",
   "metadata": {},
   "outputs": [
    {
     "data": {
      "text/html": [
       "<style>\n",
       ".list-inline {list-style: none; margin:0; padding: 0}\n",
       ".list-inline>li {display: inline-block}\n",
       ".list-inline>li:not(:last-child)::after {content: \"\\00b7\"; padding: 0 .5ex}\n",
       "</style>\n",
       "<ol class=list-inline><li>0.0438258809783117</li><li>0.101099371763514</li></ol>\n"
      ],
      "text/latex": [
       "\\begin{enumerate*}\n",
       "\\item 0.0438258809783117\n",
       "\\item 0.101099371763514\n",
       "\\end{enumerate*}\n"
      ],
      "text/markdown": [
       "1. 0.0438258809783117\n",
       "2. 0.101099371763514\n",
       "\n",
       "\n"
      ],
      "text/plain": [
       "[1] 0.04382588 0.10109937"
      ]
     },
     "metadata": {},
     "output_type": "display_data"
    }
   ],
   "source": [
    "find_ci95(posterior)"
   ]
  },
  {
   "cell_type": "markdown",
   "id": "2d9b9c18-bb83-41f3-b73c-a47b2b957629",
   "metadata": {},
   "source": [
    "This time 0.1 is outside the interval so we can reject it"
   ]
  },
  {
   "cell_type": "code",
   "execution_count": 112,
   "id": "a32e2d92-7457-47a7-923a-e589757f0228",
   "metadata": {},
   "outputs": [
    {
     "data": {
      "text/html": [
       "0.0274603966787876"
      ],
      "text/latex": [
       "0.0274603966787876"
      ],
      "text/markdown": [
       "0.0274603966787876"
      ],
      "text/plain": [
       "[1] 0.0274604"
      ]
     },
     "metadata": {},
     "output_type": "display_data"
    },
    {
     "data": {
      "text/html": [
       "0.0236551046127271"
      ],
      "text/latex": [
       "0.0236551046127271"
      ],
      "text/markdown": [
       "0.0236551046127271"
      ],
      "text/plain": [
       "[1] 0.0236551"
      ]
     },
     "metadata": {},
     "output_type": "display_data"
    }
   ],
   "source": [
    "pbinom(9,165,0.1)\n",
    "1-pbinom(24,165,0.1)"
   ]
  },
  {
   "cell_type": "markdown",
   "id": "2b06ff1a-8413-4408-b638-988b4455c0da",
   "metadata": {},
   "source": [
    "We can reject the null hypothesis even in the frequentist approach"
   ]
  }
 ],
 "metadata": {
  "kernelspec": {
   "display_name": "R",
   "language": "R",
   "name": "ir"
  },
  "language_info": {
   "codemirror_mode": "r",
   "file_extension": ".r",
   "mimetype": "text/x-r-source",
   "name": "R",
   "pygments_lexer": "r",
   "version": "4.0.2"
  }
 },
 "nbformat": 4,
 "nbformat_minor": 5
}

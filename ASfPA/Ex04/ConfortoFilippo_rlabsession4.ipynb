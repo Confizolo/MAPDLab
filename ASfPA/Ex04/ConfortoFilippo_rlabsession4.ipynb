{
 "cells": [
  {
   "cell_type": "markdown",
   "id": "86326866-dfef-4df9-b0a0-7f00e6526de3",
   "metadata": {},
   "source": [
    "# Filippo Conforto - RLab 04"
   ]
  },
  {
   "cell_type": "code",
   "execution_count": 40,
   "id": "ec8f54f5-4af5-4611-8ed1-d94e3a585450",
   "metadata": {},
   "outputs": [
    {
     "name": "stderr",
     "output_type": "stream",
     "text": [
      "── \u001b[1mAttaching packages\u001b[22m ─────────────────────────────────────── tidyverse 1.3.0 ──\n",
      "\n",
      "\u001b[32m✔\u001b[39m \u001b[34mggplot2\u001b[39m 3.3.3     \u001b[32m✔\u001b[39m \u001b[34mpurrr  \u001b[39m 0.3.4\n",
      "\u001b[32m✔\u001b[39m \u001b[34mtibble \u001b[39m 3.1.0     \u001b[32m✔\u001b[39m \u001b[34mdplyr  \u001b[39m 1.0.5\n",
      "\u001b[32m✔\u001b[39m \u001b[34mtidyr  \u001b[39m 1.1.3     \u001b[32m✔\u001b[39m \u001b[34mstringr\u001b[39m 1.4.0\n",
      "\u001b[32m✔\u001b[39m \u001b[34mreadr  \u001b[39m 1.4.0     \u001b[32m✔\u001b[39m \u001b[34mforcats\u001b[39m 0.5.1\n",
      "\n",
      "── \u001b[1mConflicts\u001b[22m ────────────────────────────────────────── tidyverse_conflicts() ──\n",
      "\u001b[31m✖\u001b[39m \u001b[34mdplyr\u001b[39m::\u001b[32mfilter()\u001b[39m masks \u001b[34mstats\u001b[39m::filter()\n",
      "\u001b[31m✖\u001b[39m \u001b[34mdplyr\u001b[39m::\u001b[32mlag()\u001b[39m    masks \u001b[34mstats\u001b[39m::lag()\n",
      "\n"
     ]
    }
   ],
   "source": [
    "library(tidyverse)"
   ]
  },
  {
   "cell_type": "markdown",
   "id": "eb36cc45-ca2b-46aa-b30b-a4712d0b5246",
   "metadata": {},
   "source": [
    "## Exercise 1"
   ]
  },
  {
   "cell_type": "markdown",
   "id": "83e1b796-623e-4082-9b3e-d34134ae9320",
   "metadata": {},
   "source": [
    "Some function are needed in order to calculate the posterior evolution."
   ]
  },
  {
   "cell_type": "code",
   "execution_count": 55,
   "id": "4cf8f1b8-0851-442b-87e1-cd8f48e2791c",
   "metadata": {},
   "outputs": [],
   "source": [
    "user_up = function(s) {\n",
    "    if (s==0) c(0,1/5,2/5,3/5,4/5,1)\n",
    "    else c(1,4/5,3/5,2/5,1/5,0)\n",
    "}\n",
    "\n",
    "prob_hist = function(inp){\n",
    "    prob = matrix(c(1/6,1/6,1/6,1/6,1/6,1/6))\n",
    "    prob = cbind(prob,matrix(unlist(map(inp,user_up)), nrow=6))\n",
    "    prob = t(apply(prob,1,cumprod))\n",
    "    prob = apply(prob,2,function(x) x/sum(x))\n",
    "    return(prob)\n",
    "}"
   ]
  },
  {
   "cell_type": "markdown",
   "id": "5c5e43cb-72be-455b-a356-d6bc9e2c493a",
   "metadata": {},
   "source": [
    "The following structure allows to print the posterior evolution probability given the color of randomly extracted ball. The plot is visible only at the end of the process, because of some limitations of jupyter notebook. The R script allows to have it plotted for each extraction."
   ]
  },
  {
   "cell_type": "code",
   "execution_count": 56,
   "id": "be8d934c-5719-47e9-a4c4-24803cb238e7",
   "metadata": {},
   "outputs": [
    {
     "name": "stdin",
     "output_type": "stream",
     "text": [
      "Insert the value or any key to exit 1\n"
     ]
    },
    {
     "name": "stderr",
     "output_type": "stream",
     "text": [
      "Probabilities: H0:0.3333333 H1:0.2666667 H2:0.20 H3:0.1333333 H4:0.06666667 H5:0.00\n",
      "\n"
     ]
    },
    {
     "name": "stdin",
     "output_type": "stream",
     "text": [
      "Insert the value or any key to exit 1\n"
     ]
    },
    {
     "name": "stderr",
     "output_type": "stream",
     "text": [
      "Probabilities: H0:0.4545455 H1:0.2909091 H2:0.1636364 H3:0.07272727 H4:0.01818182 H5:0.00\n",
      "\n"
     ]
    },
    {
     "name": "stdin",
     "output_type": "stream",
     "text": [
      "Insert the value or any key to exit 11\n"
     ]
    }
   ],
   "source": [
    "inp = c()\n",
    "ask = FALSE\n",
    "while (ask == FALSE) {\n",
    "    temp = readline(\"Insert the value or any key to exit (1 for black, 0 for white) \")\n",
    "    if ((temp == 0) | (temp == 1)) {\n",
    "        inp = c(inp,temp)\n",
    "    }\n",
    "    else {break}\n",
    "    prob = prob_hist(inp)\n",
    "    \n",
    "\n",
    "message(\"Probabilities: H0:\",format(prob[1,(length(inp)+1)], nsmall = 2),\" H1:\",format(prob[2,(length(inp)+1)], nsmall = 2),\" H2:\",format(prob[3,(length(inp)+1)], nsmall = 2),\" H3:\",format(prob[4,(length(inp)+1)], nsmall = 2),\" H4:\",format(prob[5,(length(inp)+1)], nsmall = 2),\" H5:\",format(prob[6,(length(inp)+1)], nsmall = 2))\n",
    "}\n"
   ]
  },
  {
   "cell_type": "code",
   "execution_count": 59,
   "id": "2180eb1b-9594-4431-b409-04b56b43b85a",
   "metadata": {},
   "outputs": [
    {
     "data": {
      "image/png": "[encoded data removed]",
      "text/plain": [
       "Plot with title “H6”"
      ]
     },
     "metadata": {
      "image/png": {
       "height": 540,
       "width": 720
      }
     },
     "output_type": "display_data"
    }
   ],
   "source": [
    "layout(matrix(1:6, nrow=2, ncol = 3, byrow = TRUE))\n",
    "for (i in 1:6){\n",
    "    plot(1:(length(inp)+1), prob[i,0:(length(inp)+1)], main = paste0(\"H\",i), xlab=\"Sample number\", ylab=\"Probability\", pch = 19, cex = 1.5)\n",
    "    }"
   ]
  },
  {
   "cell_type": "markdown",
   "id": "36d870f3-c87d-48e2-84f6-ae802d6ea114",
   "metadata": {},
   "source": [
    "## Exercise 2"
   ]
  },
  {
   "cell_type": "markdown",
   "id": "4e2e0509-c5e5-46ce-be6f-181dc23656ae",
   "metadata": {},
   "source": [
    "In the same way a random box can be extracted and the sampling procedure can be automatic and the inference procedure can be seen as in the previous case. Again, the plot is done only at the end, but it can be see at each iteration using a R script."
   ]
  },
  {
   "cell_type": "code",
   "execution_count": 61,
   "id": "942ac572-c780-40b2-8be6-07ddf8a12484",
   "metadata": {},
   "outputs": [],
   "source": [
    "h1 = c(1,1,1,1,1)\n",
    "h2 = c(1,1,1,1,0)\n",
    "h3 = c(1,1,1,0,0)\n",
    "h4 = c(1,1,0,0,0)\n",
    "h5 = c(1,0,0,0,0)\n",
    "h6 = c(0,0,0,0,0)\n",
    "boxes = list(h1,h2,h3,h4,h5,h6)"
   ]
  },
  {
   "cell_type": "code",
   "execution_count": 62,
   "id": "9a52638f-7db6-4025-abc5-cc6d8bcc33d4",
   "metadata": {},
   "outputs": [],
   "source": [
    "box = sample(1:6,1, replace = TRUE)"
   ]
  },
  {
   "cell_type": "code",
   "execution_count": 65,
   "id": "7499fd89-d32a-44c1-a0df-4befd51778b1",
   "metadata": {
    "tags": []
   },
   "outputs": [
    {
     "name": "stdin",
     "output_type": "stream",
     "text": [
      "Insert 0 to continue any key to exit 0\n"
     ]
    },
    {
     "name": "stderr",
     "output_type": "stream",
     "text": [
      "Extracted black\n",
      "\n",
      "Probabilities: H0:0.3333333 H1:0.2666667 H2:0.20 H3:0.1333333 H4:0.06666667 H5:0.00\n",
      "\n"
     ]
    },
    {
     "name": "stdin",
     "output_type": "stream",
     "text": [
      "Insert 0 to continue any key to exit 0\n"
     ]
    },
    {
     "name": "stderr",
     "output_type": "stream",
     "text": [
      "Extracted black\n",
      "\n",
      "Probabilities: H0:0.4545455 H1:0.2909091 H2:0.1636364 H3:0.07272727 H4:0.01818182 H5:0.00\n",
      "\n"
     ]
    },
    {
     "name": "stdin",
     "output_type": "stream",
     "text": [
      "Insert 0 to continue any key to exit 0\n"
     ]
    },
    {
     "name": "stderr",
     "output_type": "stream",
     "text": [
      "Extracted white\n",
      "\n",
      "Probabilities: H0:0.00 H1:0.32 H2:0.36 H3:0.24 H4:0.08 H5:0.00\n",
      "\n"
     ]
    },
    {
     "name": "stdin",
     "output_type": "stream",
     "text": [
      "Insert 0 to continue any key to exit 1\n"
     ]
    }
   ],
   "source": [
    "inp = c()\n",
    "ask = FALSE\n",
    "while (ask == FALSE) {\n",
    "    temp = readline(\"Insert 0 to continue any key to exit \")\n",
    "    if ((temp == 0)) {\n",
    "        inp = c(inp,sample(boxes[[box]],size=1, replace = TRUE))\n",
    "    }\n",
    "    else {break}\n",
    "    prob = prob_hist(inp)\n",
    "    if (inp[[length(inp)]] == 1)message(\"Extracted black\")\n",
    "    else message(\"Extracted white\")\n",
    "    \n",
    "\n",
    "message(\"Probabilities: H0:\",format(prob[1,(length(inp)+1)], nsmall = 2),\" H1:\",format(prob[2,(length(inp)+1)], nsmall = 2),\" H2:\",format(prob[3,(length(inp)+1)], nsmall = 2),\" H3:\",format(prob[4,(length(inp)+1)], nsmall = 2),\" H4:\",format(prob[5,(length(inp)+1)], nsmall = 2),\" H5:\",format(prob[6,(length(inp)+1)], nsmall = 2))\n",
    "}\n"
   ]
  },
  {
   "cell_type": "code",
   "execution_count": 66,
   "id": "34a1291e-7ace-4f1e-ba51-786dabfe14be",
   "metadata": {},
   "outputs": [],
   "source": [
    "prob = prob_hist(inp)"
   ]
  },
  {
   "cell_type": "code",
   "execution_count": 68,
   "id": "fd909efd-5e9b-4e49-bce7-220a2c9b4ecb",
   "metadata": {},
   "outputs": [
    {
     "data": {
      "image/png": "[encoded data removed]",
      "text/plain": [
       "Plot with title “H6”"
      ]
     },
     "metadata": {
      "image/png": {
       "height": 540,
       "width": 720
      }
     },
     "output_type": "display_data"
    }
   ],
   "source": [
    "layout(matrix(1:6, nrow=2, ncol = 3, byrow = TRUE))\n",
    "for (i in 1:6){\n",
    "    plot(1:(length(inp)+1), prob[i,0:(length(inp)+1)], main = paste0(\"H\",i), xlab=\"Sample number\", ylab=\"Probability\", pch = 19, cex = 1.5)\n",
    "    }"
   ]
  },
  {
   "cell_type": "markdown",
   "id": "36684aa0-1c1f-4e4e-b331-c14838a401d7",
   "metadata": {
    "tags": []
   },
   "source": [
    "## Exercise 3"
   ]
  },
  {
   "cell_type": "markdown",
   "id": "21d7f0c0-875c-400d-8f2a-35f29dec1cf4",
   "metadata": {},
   "source": [
    "Using the function rgamma is possible to sample from a gamma distribution, and given a integer value for the parameter $\\alpha$ it becomes an Erlang distribution"
   ]
  },
  {
   "cell_type": "markdown",
   "id": "445108f0-e803-4917-9f06-5bd6df18168e",
   "metadata": {},
   "source": [
    "Given a $\\beta$ fixed and a serie of $\\alpha$ the reproductive property for an Erlang distribution can be demonstrated"
   ]
  },
  {
   "cell_type": "code",
   "execution_count": 54,
   "id": "e10c33a8-f7cc-423a-a45f-a99bd56033b0",
   "metadata": {},
   "outputs": [
    {
     "data": {
      "image/png": "[encoded data removed]",
      "text/plain": [
       "plot without title"
      ]
     },
     "metadata": {
      "image/png": {
       "height": 540,
       "width": 720
      }
     },
     "output_type": "display_data"
    }
   ],
   "source": [
    "alpha = 15\n",
    "beta = 60\n",
    "erl_samp = rgamma(10000,alpha, beta)\n",
    "\n",
    "exp_samp = matrix(rexp(150000, beta), nrow = 10000, ncol = 15) \n",
    "exp_samp = apply(exp_samp,1,sum)\n",
    "options(repr.plot.width=12, repr.plot.height=9)\n",
    "\n",
    "ggplot() + \n",
    "    geom_histogram( aes(x = exp_samp,fill = \"Samples obtained from the gamma distribution\", color = \"Samples obtained from the gamma distribution\"), alpha = 0.3, bins = 40) +\n",
    "    geom_histogram( aes(x = erl_samp,fill = \"Samples obtained as a sum of exponentials\", color = \"Samples obtained as a sum of exponentials\"), alpha = 0.3, bins = 40) +\n",
    "    labs( x=\"X\", y= \"Frequence\", color = \"\", fill = \"\") +\n",
    "    scale_color_manual(values = c(\"black\", \"black\")) +\n",
    "    theme(legend.position=\"bottom\")\n"
   ]
  },
  {
   "cell_type": "markdown",
   "id": "56270043-8f46-461d-8178-646b3ab2cc59",
   "metadata": {},
   "source": [
    "## Exercise 4"
   ]
  },
  {
   "cell_type": "markdown",
   "id": "87cc1e14-1396-4315-a086-9eb81da47493",
   "metadata": {},
   "source": [
    "In order to extract a serie of random values `r_von_n` is defined. This function evaluates the square of a number and removes an equal number of digits from both the sides of it in order to get a random value with the same number of digits of the seed.\n",
    "\n",
    "If the difference in length is odd, then the number of digits removed is higher for the right part of the final number"
   ]
  },
  {
   "cell_type": "code",
   "execution_count": 15,
   "id": "02858dd2-1aa5-42b1-93a7-edd5e933d500",
   "metadata": {},
   "outputs": [],
   "source": [
    "r_von_n = function(seed){\n",
    "    len = length(unlist(strsplit(as.character(seed),\"\")))\n",
    "    number <- unlist(strsplit(as.character(seed^2),\"\"))\n",
    "    len2 = length(number)\n",
    "    if ((len2 - len)%%2 == 0){\n",
    "        number = number[((len2 - len)/2+1):(len2-(len2 - len)/2)]    \n",
    "    }\n",
    "    else{ \n",
    "        number = number[((len2 - len+1)/2):(len2-(len2 - len+1)/2)]\n",
    "    }\n",
    "    return(as.numeric(paste(number, collapse=\"\")))\n",
    "}\n"
   ]
  },
  {
   "cell_type": "markdown",
   "id": "1f86f310-58c8-42f6-839a-d917f986092a",
   "metadata": {},
   "source": [
    "A simple example of how the algorithm can work"
   ]
  },
  {
   "cell_type": "code",
   "execution_count": 19,
   "id": "1f2638ab-65d8-410a-a1be-bb2bdb3c231b",
   "metadata": {},
   "outputs": [
    {
     "data": {
      "text/html": [
       "<style>\n",
       ".list-inline {list-style: none; margin:0; padding: 0}\n",
       ".list-inline>li {display: inline-block}\n",
       ".list-inline>li:not(:last-child)::after {content: \"\\00b7\"; padding: 0 .5ex}\n",
       "</style>\n",
       "<ol class=list-inline><li>14</li><li>16</li><li>19</li><li>22</li><li>25</li><li>28</li><li>32</li><li>36</li><li>40</li><li>44</li><li>48</li><li>52</li><li>57</li><li>62</li><li>67</li><li>72</li></ol>\n"
      ],
      "text/latex": [
       "\\begin{enumerate*}\n",
       "\\item 14\n",
       "\\item 16\n",
       "\\item 19\n",
       "\\item 22\n",
       "\\item 25\n",
       "\\item 28\n",
       "\\item 32\n",
       "\\item 36\n",
       "\\item 40\n",
       "\\item 44\n",
       "\\item 48\n",
       "\\item 52\n",
       "\\item 57\n",
       "\\item 62\n",
       "\\item 67\n",
       "\\item 72\n",
       "\\end{enumerate*}\n"
      ],
      "text/markdown": [
       "1. 14\n",
       "2. 16\n",
       "3. 19\n",
       "4. 22\n",
       "5. 25\n",
       "6. 28\n",
       "7. 32\n",
       "8. 36\n",
       "9. 40\n",
       "10. 44\n",
       "11. 48\n",
       "12. 52\n",
       "13. 57\n",
       "14. 62\n",
       "15. 67\n",
       "16. 72\n",
       "\n",
       "\n"
      ],
      "text/plain": [
       " [1] 14 16 19 22 25 28 32 36 40 44 48 52 57 62 67 72"
      ]
     },
     "metadata": {},
     "output_type": "display_data"
    },
    {
     "data": {
      "text/html": [
       "<style>\n",
       ".list-inline {list-style: none; margin:0; padding: 0}\n",
       ".list-inline>li {display: inline-block}\n",
       ".list-inline>li:not(:last-child)::after {content: \"\\00b7\"; padding: 0 .5ex}\n",
       "</style>\n",
       "<ol class=list-inline><li>440</li><li>464</li><li>488</li><li>512</li><li>537</li><li>562</li><li>587</li><li>612</li><li>638</li><li>664</li><li>690</li><li>716</li><li>742</li><li>768</li><li>795</li><li>822</li></ol>\n"
      ],
      "text/latex": [
       "\\begin{enumerate*}\n",
       "\\item 440\n",
       "\\item 464\n",
       "\\item 488\n",
       "\\item 512\n",
       "\\item 537\n",
       "\\item 562\n",
       "\\item 587\n",
       "\\item 612\n",
       "\\item 638\n",
       "\\item 664\n",
       "\\item 690\n",
       "\\item 716\n",
       "\\item 742\n",
       "\\item 768\n",
       "\\item 795\n",
       "\\item 822\n",
       "\\end{enumerate*}\n"
      ],
      "text/markdown": [
       "1. 440\n",
       "2. 464\n",
       "3. 488\n",
       "4. 512\n",
       "5. 537\n",
       "6. 562\n",
       "7. 587\n",
       "8. 612\n",
       "9. 638\n",
       "10. 664\n",
       "11. 690\n",
       "12. 716\n",
       "13. 742\n",
       "14. 768\n",
       "15. 795\n",
       "16. 822\n",
       "\n",
       "\n"
      ],
      "text/plain": [
       " [1] 440 464 488 512 537 562 587 612 638 664 690 716 742 768 795 822"
      ]
     },
     "metadata": {},
     "output_type": "display_data"
    },
    {
     "data": {
      "text/html": [
       "<style>\n",
       ".list-inline {list-style: none; margin:0; padding: 0}\n",
       ".list-inline>li {display: inline-block}\n",
       ".list-inline>li:not(:last-child)::after {content: \"\\00b7\"; padding: 0 .5ex}\n",
       "</style>\n",
       "<ol class=list-inline><li>4400</li><li>4424</li><li>4448</li><li>4472</li><li>4496</li><li>4520</li><li>4544</li><li>4568</li><li>4592</li><li>4616</li><li>4641</li><li>4665</li><li>4689</li><li>4713</li><li>4737</li><li>4762</li></ol>\n"
      ],
      "text/latex": [
       "\\begin{enumerate*}\n",
       "\\item 4400\n",
       "\\item 4424\n",
       "\\item 4448\n",
       "\\item 4472\n",
       "\\item 4496\n",
       "\\item 4520\n",
       "\\item 4544\n",
       "\\item 4568\n",
       "\\item 4592\n",
       "\\item 4616\n",
       "\\item 4641\n",
       "\\item 4665\n",
       "\\item 4689\n",
       "\\item 4713\n",
       "\\item 4737\n",
       "\\item 4762\n",
       "\\end{enumerate*}\n"
      ],
      "text/markdown": [
       "1. 4400\n",
       "2. 4424\n",
       "3. 4448\n",
       "4. 4472\n",
       "5. 4496\n",
       "6. 4520\n",
       "7. 4544\n",
       "8. 4568\n",
       "9. 4592\n",
       "10. 4616\n",
       "11. 4641\n",
       "12. 4665\n",
       "13. 4689\n",
       "14. 4713\n",
       "15. 4737\n",
       "16. 4762\n",
       "\n",
       "\n"
      ],
      "text/plain": [
       " [1] 4400 4424 4448 4472 4496 4520 4544 4568 4592 4616 4641 4665 4689 4713 4737\n",
       "[16] 4762"
      ]
     },
     "metadata": {},
     "output_type": "display_data"
    }
   ],
   "source": [
    "sapply(12:27,r_von_n)\n",
    "sapply(120:135,r_von_n)\n",
    "sapply(1200:1215,r_von_n)"
   ]
  }
 ],
 "metadata": {
  "kernelspec": {
   "display_name": "R",
   "language": "R",
   "name": "ir"
  },
  "language_info": {
   "codemirror_mode": "r",
   "file_extension": ".r",
   "mimetype": "text/x-r-source",
   "name": "R",
   "pygments_lexer": "r",
   "version": "4.0.2"
  }
 },
 "nbformat": 4,
 "nbformat_minor": 5
}

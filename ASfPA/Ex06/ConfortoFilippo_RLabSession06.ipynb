{
 "cells": [
  {
   "cell_type": "markdown",
   "id": "06b8ff31-4d26-4063-baa6-e7aa363ae8b2",
   "metadata": {},
   "source": [
    "# Filippo Conforto - RLab 06"
   ]
  },
  {
   "cell_type": "code",
   "execution_count": 1,
   "id": "0e6c1187-1e84-455e-98cd-298de42aced3",
   "metadata": {},
   "outputs": [
    {
     "name": "stderr",
     "output_type": "stream",
     "text": [
      "── \u001b[1mAttaching packages\u001b[22m ─────────────────────────────────────── tidyverse 1.3.0 ──\n",
      "\n",
      "\u001b[32m✔\u001b[39m \u001b[34mggplot2\u001b[39m 3.3.3     \u001b[32m✔\u001b[39m \u001b[34mpurrr  \u001b[39m 0.3.4\n",
      "\u001b[32m✔\u001b[39m \u001b[34mtibble \u001b[39m 3.1.0     \u001b[32m✔\u001b[39m \u001b[34mdplyr  \u001b[39m 1.0.5\n",
      "\u001b[32m✔\u001b[39m \u001b[34mtidyr  \u001b[39m 1.1.3     \u001b[32m✔\u001b[39m \u001b[34mstringr\u001b[39m 1.4.0\n",
      "\u001b[32m✔\u001b[39m \u001b[34mreadr  \u001b[39m 1.4.0     \u001b[32m✔\u001b[39m \u001b[34mforcats\u001b[39m 0.5.1\n",
      "\n",
      "── \u001b[1mConflicts\u001b[22m ────────────────────────────────────────── tidyverse_conflicts() ──\n",
      "\u001b[31m✖\u001b[39m \u001b[34mdplyr\u001b[39m::\u001b[32mfilter()\u001b[39m masks \u001b[34mstats\u001b[39m::filter()\n",
      "\u001b[31m✖\u001b[39m \u001b[34mdplyr\u001b[39m::\u001b[32mlag()\u001b[39m    masks \u001b[34mstats\u001b[39m::lag()\n",
      "\n"
     ]
    }
   ],
   "source": [
    "library(tidyverse, quiet = TRUE)"
   ]
  },
  {
   "cell_type": "code",
   "execution_count": 40,
   "id": "8041d8be-0c84-4c37-b0f7-2296f8a36948",
   "metadata": {},
   "outputs": [],
   "source": [
    "find_ci95 = function (pos, lower, upper) {\n",
    "    low = uniroot(function(y){integrate(pos,lower,y)[[1]] - 0.025}, lower = lower, upper = upper)$root\n",
    "    up = uniroot(function(y){integrate(pos,y,upper)[[1]] - 0.025}, lower = lower, upper = upper)$root\n",
    "    return(c(low,up))\n",
    "    ## Valutare l'uso di qgamma\n",
    "}"
   ]
  },
  {
   "cell_type": "code",
   "execution_count": 27,
   "id": "6aae36a1-728d-4342-9619-e7a75b9cf5b4",
   "metadata": {},
   "outputs": [],
   "source": [
    "find_median = function (pos, lower, upper) {\n",
    "    median = uniroot(function(y){integrate(pos,0,y)[[1]] - 0.5}, lower = lower, upper = upper)$root\n",
    "    return(median)\n",
    "    ## Valutare di usare qgamma\n",
    "}"
   ]
  },
  {
   "cell_type": "code",
   "execution_count": 29,
   "id": "fc345ec5-ca50-43e5-9e27-a2e7acc685c5",
   "metadata": {},
   "outputs": [],
   "source": [
    "find_mean = function (pos, lower, upper) {\n",
    "    integrate(function(x) pos(x)*x, lower, upper)[[1]]\n",
    "}"
   ]
  },
  {
   "cell_type": "code",
   "execution_count": 30,
   "id": "c02b5550-53c9-4c61-8554-4e33fd5d41eb",
   "metadata": {},
   "outputs": [],
   "source": [
    "find_variance = function (pos, lower, upper) {\n",
    "    integrate(function(x) pos(x)*x^2, lower, upper)[[1]]-find_mean(pos, lower, upper)^2\n",
    "}"
   ]
  },
  {
   "cell_type": "markdown",
   "id": "353bce5e-a633-4584-8250-df30097ce0a1",
   "metadata": {},
   "source": [
    "## Exercise 1"
   ]
  },
  {
   "cell_type": "markdown",
   "id": "5fa54954-7af4-4016-89a7-a1823f9116cd",
   "metadata": {},
   "source": [
    "Analiticamente ci sono i valori su wikipedia"
   ]
  },
  {
   "cell_type": "code",
   "execution_count": 72,
   "id": "03ad95d2-b48f-43b0-affe-ef367cf5ee67",
   "metadata": {},
   "outputs": [],
   "source": [
    "unif_post= function(x){\n",
    "    dgamma(x,13,5)\n",
    "}"
   ]
  },
  {
   "cell_type": "code",
   "execution_count": 47,
   "id": "a1681205-094b-4d10-81ed-ee7cbdf44a60",
   "metadata": {},
   "outputs": [
    {
     "data": {
      "text/html": [
       "0.39239811072"
      ],
      "text/latex": [
       "0.39239811072"
      ],
      "text/markdown": [
       "0.39239811072"
      ],
      "text/plain": [
       "[1] 0.3923981"
      ]
     },
     "metadata": {},
     "output_type": "display_data"
    }
   ],
   "source": [
    "factorial(12)/5^13"
   ]
  },
  {
   "cell_type": "code",
   "execution_count": 68,
   "id": "c4462695-37a2-40b4-a643-607ada11427b",
   "metadata": {},
   "outputs": [
    {
     "data": {
      "image/png": "[encoded data removed]",
      "text/plain": [
       "plot without title"
      ]
     },
     "metadata": {
      "image/png": {
       "height": 420,
       "width": 420
      }
     },
     "output_type": "display_data"
    }
   ],
   "source": [
    "plot(seq(0,15,0.01),unif_post(seq(0,15,0.01)))"
   ]
  },
  {
   "cell_type": "code",
   "execution_count": 80,
   "id": "4e6a9473-d3d0-4456-88ee-32d0f64dcfee",
   "metadata": {},
   "outputs": [
    {
     "data": {
      "text/html": [
       "2.59999999999997"
      ],
      "text/latex": [
       "2.59999999999997"
      ],
      "text/markdown": [
       "2.59999999999997"
      ],
      "text/plain": [
       "[1] 2.6"
      ]
     },
     "metadata": {},
     "output_type": "display_data"
    }
   ],
   "source": [
    "find_mean(unif_post, 0, 15)"
   ]
  },
  {
   "cell_type": "code",
   "execution_count": 81,
   "id": "b89703c6-8092-49a7-92af-7c42eae194f9",
   "metadata": {},
   "outputs": [
    {
     "data": {
      "text/html": [
       "2.53364589864152"
      ],
      "text/latex": [
       "2.53364589864152"
      ],
      "text/markdown": [
       "2.53364589864152"
      ],
      "text/plain": [
       "[1] 2.533646"
      ]
     },
     "metadata": {},
     "output_type": "display_data"
    }
   ],
   "source": [
    "find_median(unif_post, 0, 15)"
   ]
  },
  {
   "cell_type": "code",
   "execution_count": 82,
   "id": "d9d1813f-736e-4c8b-a144-6bc214776b32",
   "metadata": {},
   "outputs": [
    {
     "data": {
      "text/html": [
       "0.520000000000038"
      ],
      "text/latex": [
       "0.520000000000038"
      ],
      "text/markdown": [
       "0.520000000000038"
      ],
      "text/plain": [
       "[1] 0.52"
      ]
     },
     "metadata": {},
     "output_type": "display_data"
    }
   ],
   "source": [
    "find_variance(unif_post, 0, 15)"
   ]
  },
  {
   "cell_type": "code",
   "execution_count": 43,
   "id": "ea89a9f5-e55b-4565-9dba-c5ea10b7ee77",
   "metadata": {},
   "outputs": [
    {
     "data": {
      "text/html": [
       "<style>\n",
       ".list-inline {list-style: none; margin:0; padding: 0}\n",
       ".list-inline>li {display: inline-block}\n",
       ".list-inline>li:not(:last-child)::after {content: \"\\00b7\"; padding: 0 .5ex}\n",
       "</style>\n",
       "<ol class=list-inline><li>1.3844184667939</li><li>4.19231658872713</li></ol>\n"
      ],
      "text/latex": [
       "\\begin{enumerate*}\n",
       "\\item 1.3844184667939\n",
       "\\item 4.19231658872713\n",
       "\\end{enumerate*}\n"
      ],
      "text/markdown": [
       "1. 1.3844184667939\n",
       "2. 4.19231658872713\n",
       "\n",
       "\n"
      ],
      "text/plain": [
       "[1] 1.384418 4.192317"
      ]
     },
     "metadata": {},
     "output_type": "display_data"
    }
   ],
   "source": [
    "find_ci95(unif_post, 0, 15)"
   ]
  },
  {
   "cell_type": "code",
   "execution_count": 124,
   "id": "67d71263-0d13-4fd9-8b62-9afc4a39a579",
   "metadata": {},
   "outputs": [
    {
     "data": {
      "text/html": [
       "1.18664987113554"
      ],
      "text/latex": [
       "1.18664987113554"
      ],
      "text/markdown": [
       "1.18664987113554"
      ],
      "text/plain": [
       "[1] 1.18665"
      ]
     },
     "metadata": {},
     "output_type": "display_data"
    }
   ],
   "source": [
    "qnorm(0.025,mean = find_mean(unif_post, 0, 15), sd = sqrt(find_variance(unif_post, 0, 15)))"
   ]
  },
  {
   "cell_type": "code",
   "execution_count": 125,
   "id": "7f55caa0-9748-42e0-b45a-11b755e1c1bc",
   "metadata": {},
   "outputs": [
    {
     "data": {
      "text/html": [
       "4.01335012886439"
      ],
      "text/latex": [
       "4.01335012886439"
      ],
      "text/markdown": [
       "4.01335012886439"
      ],
      "text/plain": [
       "[1] 4.01335"
      ]
     },
     "metadata": {},
     "output_type": "display_data"
    }
   ],
   "source": [
    "qnorm(0.975,mean = find_mean(unif_post, 0, 15), sd = sqrt(find_variance(unif_post, 0, 15)))"
   ]
  },
  {
   "cell_type": "code",
   "execution_count": 75,
   "id": "3ee69e9d-0a8e-4944-b5c2-2cd8fd48849f",
   "metadata": {},
   "outputs": [],
   "source": [
    "jeff_post = function(x){\n",
    "    dgamma(x,12.5,5)\n",
    "}"
   ]
  },
  {
   "cell_type": "code",
   "execution_count": 63,
   "id": "89ec3106-64e5-4da3-8af8-0fa7f6e3a8e6",
   "metadata": {},
   "outputs": [
    {
     "data": {
      "image/png": "[encoded data removed]",
      "text/plain": [
       "plot without title"
      ]
     },
     "metadata": {
      "image/png": {
       "height": 420,
       "width": 420
      }
     },
     "output_type": "display_data"
    }
   ],
   "source": [
    "plot(seq(0,15,0.01),jeff_post(seq(0,15,0.01)))"
   ]
  },
  {
   "cell_type": "code",
   "execution_count": 76,
   "id": "54aa40f5-789d-44ed-aafc-d4288a108d87",
   "metadata": {},
   "outputs": [
    {
     "data": {
      "text/html": [
       "2.50000000000012"
      ],
      "text/latex": [
       "2.50000000000012"
      ],
      "text/markdown": [
       "2.50000000000012"
      ],
      "text/plain": [
       "[1] 2.5"
      ]
     },
     "metadata": {},
     "output_type": "display_data"
    }
   ],
   "source": [
    "find_mean(jeff_post, 0, 15)"
   ]
  },
  {
   "cell_type": "code",
   "execution_count": 77,
   "id": "04596870-8c3b-4776-93ce-f375d85c45b8",
   "metadata": {},
   "outputs": [
    {
     "data": {
      "text/html": [
       "2.43365875919234"
      ],
      "text/latex": [
       "2.43365875919234"
      ],
      "text/markdown": [
       "2.43365875919234"
      ],
      "text/plain": [
       "[1] 2.433659"
      ]
     },
     "metadata": {},
     "output_type": "display_data"
    }
   ],
   "source": [
    "find_median(jeff_post, 0.1, 15)"
   ]
  },
  {
   "cell_type": "code",
   "execution_count": 78,
   "id": "9cbcf1f4-58db-4d00-aff3-aeb3735f2f30",
   "metadata": {},
   "outputs": [
    {
     "data": {
      "text/html": [
       "0.499999999999168"
      ],
      "text/latex": [
       "0.499999999999168"
      ],
      "text/markdown": [
       "0.499999999999168"
      ],
      "text/plain": [
       "[1] 0.5"
      ]
     },
     "metadata": {},
     "output_type": "display_data"
    }
   ],
   "source": [
    "find_variance(jeff_post, 0, 15)"
   ]
  },
  {
   "cell_type": "code",
   "execution_count": 79,
   "id": "1c110701-8a97-43dc-8467-f534b26a8393",
   "metadata": {},
   "outputs": [
    {
     "data": {
      "text/html": [
       "<style>\n",
       ".list-inline {list-style: none; margin:0; padding: 0}\n",
       ".list-inline>li {display: inline-block}\n",
       ".list-inline>li:not(:last-child)::after {content: \"\\00b7\"; padding: 0 .5ex}\n",
       "</style>\n",
       "<ol class=list-inline><li>1.31197433358282</li><li>4.06464565035928</li></ol>\n"
      ],
      "text/latex": [
       "\\begin{enumerate*}\n",
       "\\item 1.31197433358282\n",
       "\\item 4.06464565035928\n",
       "\\end{enumerate*}\n"
      ],
      "text/markdown": [
       "1. 1.31197433358282\n",
       "2. 4.06464565035928\n",
       "\n",
       "\n"
      ],
      "text/plain": [
       "[1] 1.311974 4.064646"
      ]
     },
     "metadata": {},
     "output_type": "display_data"
    }
   ],
   "source": [
    "find_ci95(jeff_post, 0.1, 15)"
   ]
  },
  {
   "cell_type": "code",
   "execution_count": 121,
   "id": "8afcdd01-123d-4b79-a2cd-3c9797cf4a3e",
   "metadata": {},
   "outputs": [
    {
     "data": {
      "text/html": [
       "1.1140961756516"
      ],
      "text/latex": [
       "1.1140961756516"
      ],
      "text/markdown": [
       "1.1140961756516"
      ],
      "text/plain": [
       "[1] 1.114096"
      ]
     },
     "metadata": {},
     "output_type": "display_data"
    }
   ],
   "source": [
    "qnorm(0.025,mean = find_mean(jeff_post, 0, 15), sd = sqrt(find_variance(jeff_post, 0, 15)))"
   ]
  },
  {
   "cell_type": "code",
   "execution_count": 123,
   "id": "c43834fd-a292-4e11-8b6e-41831cc76d8e",
   "metadata": {},
   "outputs": [
    {
     "data": {
      "text/html": [
       "3.88590382434865"
      ],
      "text/latex": [
       "3.88590382434865"
      ],
      "text/markdown": [
       "3.88590382434865"
      ],
      "text/plain": [
       "[1] 3.885904"
      ]
     },
     "metadata": {},
     "output_type": "display_data"
    }
   ],
   "source": [
    "qnorm(0.975,mean = find_mean(jeff_post, 0, 15), sd = sqrt(find_variance(jeff_post, 0, 15)))"
   ]
  },
  {
   "cell_type": "markdown",
   "id": "43680adc-e02a-4909-8f8b-2ee273ed9402",
   "metadata": {},
   "source": [
    "## Exercise 2"
   ]
  },
  {
   "cell_type": "code",
   "execution_count": 2,
   "id": "033c11d7-24d6-4992-afda-5218ff5070fd",
   "metadata": {},
   "outputs": [],
   "source": [
    "## Sampler\n",
    "samp = function(n, alpha =1, beta =1){\n",
    "    return(tan(runif(n,min = -pi/2, max = pi/2))*beta + alpha)\n",
    "}"
   ]
  },
  {
   "cell_type": "code",
   "execution_count": 3,
   "id": "05f1d73b-1e8f-4c04-be19-4f1fa7c3c59e",
   "metadata": {},
   "outputs": [],
   "source": [
    "likelyhood = function(x,alpha=1,beta=1){\n",
    "    beta/(pi*(beta^2+(x-alpha)^2))\n",
    "}"
   ]
  },
  {
   "cell_type": "code",
   "execution_count": 4,
   "id": "32bbeafc-fdd5-4c7e-9870-281774659f85",
   "metadata": {},
   "outputs": [],
   "source": [
    "update_grid = function (grid,x,a,b){\n",
    "    for(j in 1: length (a)) {\n",
    "        for(k in 1: length (b)) {\n",
    "            grid[j,k] <- likelyhood(x,a[j],b[k])*grid[j,k]\n",
    "            }\n",
    "        }\n",
    "    return(grid/(sum(grid*0.04^2)))\n",
    "    }"
   ]
  },
  {
   "cell_type": "code",
   "execution_count": 5,
   "id": "5384032c-e6da-48ad-9131-068cf38d5405",
   "metadata": {},
   "outputs": [],
   "source": [
    "alim <- c(0, 4.0)\n",
    "blim <- c(0, 4)\n",
    "Nsamp <- 100\n",
    "uniGrid <- seq(from=1/(2* Nsamp),\n",
    "to=1-1/(2*Nsamp), by=1/ Nsamp)\n",
    "delta_a <- diff(alim )/ Nsamp\n",
    "delta_b <- diff(blim )/ Nsamp\n",
    "a <- alim[1] + diff(alim )* uniGrid\n",
    "b <- blim[1] + diff(blim )* uniGrid"
   ]
  },
  {
   "cell_type": "code",
   "execution_count": 10,
   "id": "f2abdd21-9884-4241-8ee6-356dfaafd461",
   "metadata": {},
   "outputs": [],
   "source": [
    "grid = matrix ( data = rep(1/10000,10000), nrow = length(a), ncol = length(b))"
   ]
  },
  {
   "cell_type": "code",
   "execution_count": 11,
   "id": "b3b0ff53-e1ef-40d6-b399-093faa31e1bb",
   "metadata": {},
   "outputs": [],
   "source": [
    "sample = samp(1000)"
   ]
  },
  {
   "cell_type": "code",
   "execution_count": 12,
   "id": "01461424-49ef-4d06-89d2-728a01b6faac",
   "metadata": {},
   "outputs": [],
   "source": [
    "for(i in sample){\n",
    "    grid = update_grid(grid, i,a,b)\n",
    "}"
   ]
  },
  {
   "cell_type": "code",
   "execution_count": 13,
   "id": "db2d88cf-29e2-4c28-bdd7-8faeff03507a",
   "metadata": {},
   "outputs": [
    {
     "data": {
      "image/png": "[encoded data removed]",
      "text/plain": [
       "plot without title"
      ]
     },
     "metadata": {
      "image/png": {
       "height": 420,
       "width": 420
      }
     },
     "output_type": "display_data"
    }
   ],
   "source": [
    "contour (a, b, grid,\n",
    "    nlevels = 5,\n",
    "    labcex = 0.5,\n",
    "    lwd = 2,\n",
    "    xlab=\"amplitude , A\",\n",
    "    ylab=\"background , B\")\n",
    "abline (v=2,h=1,col=\"grey\")"
   ]
  },
  {
   "cell_type": "markdown",
   "id": "bc31ecbb-47d6-4ef7-84fb-69587286c44a",
   "metadata": {},
   "source": [
    "## Exercise 3"
   ]
  },
  {
   "cell_type": "code",
   "execution_count": 8,
   "id": "58c29693-139e-4449-a554-55425f9dbf08",
   "metadata": {},
   "outputs": [],
   "source": [
    "# - Generative model\n",
    "signal <- function (x, a, b, x0, w, t) {\n",
    "t * (a*exp (-(x-x0)^2/(2*w^2)) + b)\n",
    "}\n",
    "\n",
    "log.post <- function (d, x, a, b, x0, w, t) {\n",
    "    if(a<0 || b <0) { return (-Inf )} # the effect of the prior\n",
    "    sum( dpois(d, lambda = signal (x, a, b, x0, w, t), log=TRUE ))\n",
    "}\n",
    "c_plot = function(ddat , xdat){\n",
    "    z <- matrix (data=NA , nrow= length (a), ncol= length (b))\n",
    "    for(j in 1: length (a)) {\n",
    "    for(k in 1: length (b)) {\n",
    "            z[j,k] <- log.post(ddat , xdat , a[j], b[k], x0, w, Delta.t)\n",
    "        }\n",
    "    }\n",
    "    z <- z - max(z) # set maximum to zero\n",
    "    contour (a, b, exp(z),\n",
    "    nlevels = 5,\n",
    "    labcex = 0.5,\n",
    "    lwd = 2,\n",
    "    xlab=\"amplitude , A\",\n",
    "    ylab=\"background , B\")\n",
    "    abline (v=2,h=1,col=\"grey\")\n",
    "    return(z)\n",
    "}\n",
    "results = function(z){\n",
    "    # Compute normalized marginalized posteriors , P(a|D) and P(b|D)\n",
    "    # by summing over other parameter . Normalize by gridding .\n",
    "    p_a_D <- apply(exp(z), 1, sum)\n",
    "    p_a_D <- p_a_D/( delta_a*sum(p_a_D))\n",
    "    p_b_D <- apply(exp(z), 2, sum)\n",
    "    p_b_D <- p_b_D/( delta_b*sum(p_b_D))\n",
    "    # Compute normalized conditional posteriors , P(a|b,D) and P(b|a,D)\n",
    "    # using true values of conditioned parameters . Vectorize (func , par)\n",
    "    # makes a vectorized function out of func in the parameter par.\n",
    "    p_a_bD <- exp( Vectorize (log.post , \"a\")(ddat , xdat , a, B.true ,\n",
    "    x0, w, Delta.t))\n",
    "    p_a_bD <- p_a_bD/( delta_a*sum(p_a_bD))\n",
    "    p_b_aD <- exp( Vectorize (log.post , \"b\")( ddat , xdat , A.true , b,\n",
    "    x0, w, Delta.t))\n",
    "    p_b_aD <- p_b_aD/( delta_b*sum(p_b_aD))\n",
    "    # Compute normalized marginalized posteriors , P(a|D) and P(b|D)\n",
    "    # by summing over other parameter . Normalize by gridding .\n",
    "    p_a_D <- apply(exp(z), 1, sum)\n",
    "    p_a_D <- p_a_D/( delta_a*sum(p_a_D))\n",
    "    p_b_D <- apply(exp(z), 2, sum)\n",
    "    p_b_D <- p_b_D/( delta_b*sum(p_b_D))\n",
    "    # Compute mean , standard deviation , covariance , correlation , of A and B\n",
    "    mean_a <- delta_a * sum(a * p_a_D)\n",
    "    mean_b <- delta_b * sum(b * p_b_D)\n",
    "    sd_a <- sqrt( delta_a * sum ((a-mean_a)^2 * p_a_D) )\n",
    "    sd_b<- sqrt( delta_b * sum ((b-mean_b)^2 * p_b_D) )\n",
    "    return(c(mean_a,mean_b,sd_a,sd_b))\n",
    "}\n",
    "def"
   ]
  },
  {
   "cell_type": "code",
   "execution_count": 2,
   "id": "b74fba5a-321d-4f88-aaa5-c4ec5f656264",
   "metadata": {},
   "outputs": [],
   "source": [
    "# Define model\n",
    "x0 <- 0\n",
    "w<-1\n",
    "A.true <- 2 #\n",
    "B.true <- 1 #\n",
    "Delta.t <- 5 #\n",
    "set.seed(205)\n",
    "xdat <- seq(from=-7*w, to=7*w, by=0.5*w)\n",
    "s.true <- signal (xdat , A.true , B.true , x0, w, Delta.t)\n",
    "ddat <- rpois( length (s.true), s.true)"
   ]
  },
  {
   "cell_type": "code",
   "execution_count": 3,
   "id": "99ce24c2-e4b4-469e-bde6-15425cd79a89",
   "metadata": {},
   "outputs": [],
   "source": [
    "alim <- c(0.0, 4.0)\n",
    "blim <- c(0.5, 1.5)\n",
    "Nsamp <- 100\n",
    "uniGrid <- seq(from=1/(2* Nsamp ),\n",
    "to=1-1/(2*Nsamp), by=1/ Nsamp )\n",
    "delta_a <- diff(alim )/ Nsamp\n",
    "delta_b <- diff(blim )/ Nsamp\n",
    "a <- alim[1] + diff(alim )* uniGrid\n",
    "b <- blim[1] + diff(blim )* uniGrid"
   ]
  },
  {
   "cell_type": "code",
   "execution_count": 5,
   "id": "702331ba-1cfd-4791-92b0-132bfb04712d",
   "metadata": {},
   "outputs": [
    {
     "data": {
      "image/png": "[encoded data removed]",
      "text/plain": [
       "plot without title"
      ]
     },
     "metadata": {
      "image/png": {
       "height": 420,
       "width": 420
      }
     },
     "output_type": "display_data"
    }
   ],
   "source": [
    "z = c_plot(ddat,xdat)"
   ]
  },
  {
   "cell_type": "code",
   "execution_count": 11,
   "id": "f4773fa5-22a1-484c-978c-606fc51e7c47",
   "metadata": {},
   "outputs": [
    {
     "name": "stdout",
     "output_type": "stream",
     "text": [
      "a =  1.630189 +/- 0.3983222 \n",
      "b =  1.111212 +/- 0.1020915 \n",
      "rho =  -0.3968818 \n"
     ]
    }
   ],
   "source": [
    "mean_a = results(z)[[1]]\n",
    "mean_b = results(z)[[2]]\n",
    "sd_a = results(z)[[3]]\n",
    "sd_b = results(z)[[4]]\n",
    "cov_ab <- 0\n",
    "for(j in 1: length (a)) {\n",
    "for(k in 1: length (b)) {\n",
    "cov_ab <- cov_ab + (a[j]-mean_a)*(b[k]-mean_b)* exp(z[j,k])\n",
    "}\n",
    "}\n",
    "\n",
    "cov_ab <- cov_ab / sum(exp(z))\n",
    "rho_ab <- cov_ab / (sd_a * sd_b)\n",
    "\n",
    "cat(\"a = \", mean_a, \"+/-\", sd_a, \"\\n\")\n",
    "cat(\"b = \", mean_b, \"+/-\", sd_b, \"\\n\")\n",
    "cat(\"rho = \", rho_ab , \"\\n\")"
   ]
  },
  {
   "cell_type": "code",
   "execution_count": 18,
   "id": "ebd8913e-8e30-49cf-8a6b-bd21d12503b7",
   "metadata": {},
   "outputs": [],
   "source": [
    "# Define model\n",
    "x0 <- 0\n",
    "w<-0.1\n",
    "A.true <- 2 #\n",
    "B.true <- 1 #\n",
    "Delta.t <- 5 #\n",
    "set.seed(205)\n",
    "xdat1 <- seq(from=-7*w, to=7*w, by=0.5*w)\n",
    "s.true1 <- signal (xdat , A.true , B.true , x0, w, Delta.t)\n",
    "ddat1 <- rpois( length (s.true), s.true)"
   ]
  },
  {
   "cell_type": "code",
   "execution_count": 23,
   "id": "cb4f8106-319f-4190-a197-4adf3876a091",
   "metadata": {},
   "outputs": [
    {
     "data": {
      "image/png": "[encoded data removed]",
      "text/plain": [
       "plot without title"
      ]
     },
     "metadata": {
      "image/png": {
       "height": 420,
       "width": 420
      }
     },
     "output_type": "display_data"
    }
   ],
   "source": [
    "z1 = c_plot(ddat1,xdat1)"
   ]
  },
  {
   "cell_type": "code",
   "execution_count": 24,
   "id": "5ba5b23f-86f9-4d65-bed8-49bfac9d6bb5",
   "metadata": {},
   "outputs": [
    {
     "name": "stdout",
     "output_type": "stream",
     "text": [
      "a =  0.4717506 +/- 0.2664341 \n",
      "b =  0.9289297 +/- 0.2604752 \n",
      "rho =  2.810153 \n"
     ]
    }
   ],
   "source": [
    "mean_a = results(z1)[[1]]\n",
    "mean_b = results(z1)[[2]]\n",
    "sd_a = results(z1)[[3]]\n",
    "sd_b = results(z1)[[4]]\n",
    "cov_ab <- 0\n",
    "for(j in 1: length (a)) {\n",
    "for(k in 1: length (b)) {\n",
    "cov_ab <- cov_ab + (a[j]-mean_a)*(b[k]-mean_b)* exp(z[j,k])\n",
    "}\n",
    "}\n",
    "\n",
    "cov_ab <- cov_ab / sum(exp(z))\n",
    "rho_ab <- cov_ab / (sd_a * sd_b)\n",
    "\n",
    "cat(\"a = \", mean_a, \"+/-\", sd_a, \"\\n\")\n",
    "cat(\"b = \", mean_b, \"+/-\", sd_b, \"\\n\")\n",
    "cat(\"rho = \", rho_ab , \"\\n\")"
   ]
  },
  {
   "cell_type": "code",
   "execution_count": null,
   "id": "04b93940-0146-456b-8751-c0105b44f0df",
   "metadata": {},
   "outputs": [],
   "source": []
  }
 ],
 "metadata": {
  "kernelspec": {
   "display_name": "R",
   "language": "R",
   "name": "ir"
  },
  "language_info": {
   "codemirror_mode": "r",
   "file_extension": ".r",
   "mimetype": "text/x-r-source",
   "name": "R",
   "pygments_lexer": "r",
   "version": "4.0.2"
  }
 },
 "nbformat": 4,
 "nbformat_minor": 5
}
